{
 "cells": [
  {
   "cell_type": "markdown",
   "metadata": {},
   "source": [
    "# 最大公約数の計算量に関するメモ"
   ]
  },
  {
   "cell_type": "markdown",
   "metadata": {},
   "source": [
    "## 最大公約数を考えてみよう\n",
    "\n",
    "- 愚直法\n",
    "- Euclid 互助法\n",
    "\n",
    "を作成して，どのくらい時間が測るかをやってみる"
   ]
  },
  {
   "cell_type": "code",
   "execution_count": 96,
   "metadata": {},
   "outputs": [],
   "source": [
    "# a0 > a1 を仮定しておく\n",
    "# 必要なら\n",
    "# if a0 < a1:\n",
    "#    a0, a1 = a1, a0\n",
    "# として入れ替える\n",
    "\n",
    "# 愚直法を考えてみる\n",
    "def GCD1(a0, a1):\n",
    "    '''愚直法による最大公約数'''\n",
    "    gcd = 1\n",
    "    for m in range(2, a1+1):\n",
    "        if a0 % m == 0 and a1 % m == 0:\n",
    "            gcd = m\n",
    "    return gcd\n",
    "\n",
    "\n",
    "# 互助法を考えてみる\n",
    "def GCD2(a0, a1):\n",
    "    '''互助法による最大公約数'''\n",
    "    while a1 != 0:\n",
    "        a0, a1 = a1, a0 % a1\n",
    "    return a0"
   ]
  },
  {
   "cell_type": "code",
   "execution_count": 152,
   "metadata": {},
   "outputs": [
    {
     "name": "stdout",
     "output_type": "stream",
     "text": [
      "6 6\n",
      "34 34\n"
     ]
    }
   ],
   "source": [
    "# テスト例をいくつか動かしてみる\n",
    "# 答えのわかっている例で確認することは重要\n",
    "a0, a1 = 18, 12\n",
    "print(GCD1(a0, a1), GCD2(a0, a1))\n",
    "\n",
    "a0, a1 = 1248123442, 646748\n",
    "print(GCD1(a0, a1), GCD2(a0, a1))"
   ]
  },
  {
   "cell_type": "code",
   "execution_count": 153,
   "metadata": {},
   "outputs": [
    {
     "name": "stdout",
     "output_type": "stream",
     "text": [
      "GCD1 elapsed time: 0.018487 [sec]\n",
      "GCD2 elapsed time: 0.003218 [sec]\n",
      "GCD1/GCD2 ratio: 5.745459\n"
     ]
    }
   ],
   "source": [
    "# 時間を計測してみる\n",
    "\n",
    "import timeit\n",
    "import random\n",
    "\n",
    "\n",
    "def generate_gcd_pair(order=4):\n",
    "    '''\n",
    "    最大公約数ペアを生成\n",
    "    '''\n",
    "    # 最大公約数をここで決めておいて\n",
    "    common = random.randint(10, 20) \n",
    "\n",
    "    # あとは適当な倍率をかけて作成\n",
    "    up_lim = 2**(order+1)\n",
    "    low_lim = 2**(order)\n",
    "    k1 = random.randint(low_lim, up_lim)\n",
    "    k0 = random.randint(low_lim, up_lim)\n",
    "    if k0 < k1:\n",
    "        k0, k1 = k1, k0\n",
    "\n",
    "    a0 = k0 * common\n",
    "    a1 = k1 * common\n",
    "    return a0, a1, common\n",
    "\n",
    "\n",
    "# 時間を測るための，gcd を実行する関数を定義しておく\n",
    "def test_GCD1():\n",
    "    a0, a1, common = generate_gcd_pair()\n",
    "    GCD1(a0, a1)\n",
    "    \n",
    "\n",
    "def test_GCD2():\n",
    "    a0, a1, common = generate_gcd_pair()\n",
    "    GCD2(a0, a1)\n",
    "\n",
    "\n",
    "# timeit を使って計測する\n",
    "gcd1_time = timeit.timeit(test_GCD1, number=1000)\n",
    "gcd2_time = timeit.timeit(test_GCD2, number=1000)\n",
    "\n",
    "print(f'GCD1 elapsed time: {gcd1_time:08f} [sec]')\n",
    "print(f'GCD2 elapsed time: {gcd2_time:08f} [sec]')\n",
    "print(f'GCD1/GCD2 ratio: {gcd1_time/gcd2_time:08f}')"
   ]
  },
  {
   "cell_type": "markdown",
   "metadata": {},
   "source": [
    "## 問題のサイズでどれくらい実行時間が変わるのか？\n",
    "\n",
    "それでは問題サイズに対してどの程度，実行時間が変わるのかを考えてみる．最大公約数の場合，パラメータは `a0`, `a1` の整数のみ．これらの数値的な大きさが実行時間にどう影響するのかを見てみる．\n",
    "この大きさをコントロールするために `generate_gcd_pairs()` 関数に `order` という引数を入れている．"
   ]
  },
  {
   "cell_type": "code",
   "execution_count": 159,
   "metadata": {},
   "outputs": [
    {
     "name": "stdout",
     "output_type": "stream",
     "text": [
      "GCD1 elapsed time: 0.021931 [sec]\n",
      "GCD2 elapsed time: 0.003782 [sec]\n",
      "GCD1/GCD2 ratio: 5.798858\n"
     ]
    }
   ],
   "source": [
    "# パラメータ付きで `timeit` モジュール関数にデータを渡すには lambda 関数を使えばよいらしい\n",
    "# 大きさ制御のパラメータを渡すため，`test_GCD1()` と `test_GCD2()` に引数を渡せるように改変\n",
    "\n",
    "# 大きさ制御パラメータを size としておく\n",
    "def test_GCD1(size):\n",
    "    a0, a1, common = generate_gcd_pair(order=size)\n",
    "    GCD1(a0, a1)\n",
    "    \n",
    "\n",
    "def test_GCD2(size):\n",
    "    a0, a1, common = generate_gcd_pair(order=size)\n",
    "    GCD2(a0, a1)\n",
    "\n",
    "\n",
    "gcd1_time = timeit.timeit(lambda: test_GCD1(4), number=1000)\n",
    "gcd2_time = timeit.timeit(lambda: test_GCD2(4), number=1000)\n",
    "\n",
    "print(f'GCD1 elapsed time: {gcd1_time:08f} [sec]')\n",
    "print(f'GCD2 elapsed time: {gcd2_time:08f} [sec]')\n",
    "print(f'GCD1/GCD2 ratio: {gcd1_time/gcd2_time:08f}')"
   ]
  },
  {
   "cell_type": "code",
   "execution_count": 165,
   "metadata": {},
   "outputs": [
    {
     "data": {
      "text/html": [
       "<div>\n",
       "<style scoped>\n",
       "    .dataframe tbody tr th:only-of-type {\n",
       "        vertical-align: middle;\n",
       "    }\n",
       "\n",
       "    .dataframe tbody tr th {\n",
       "        vertical-align: top;\n",
       "    }\n",
       "\n",
       "    .dataframe thead th {\n",
       "        text-align: right;\n",
       "    }\n",
       "</style>\n",
       "<table border=\"1\" class=\"dataframe\">\n",
       "  <thead>\n",
       "    <tr style=\"text-align: right;\">\n",
       "      <th></th>\n",
       "      <th>size</th>\n",
       "      <th>GCD1</th>\n",
       "      <th>GCD2</th>\n",
       "    </tr>\n",
       "  </thead>\n",
       "  <tbody>\n",
       "    <tr>\n",
       "      <th>0</th>\n",
       "      <td>2</td>\n",
       "      <td>0.000862</td>\n",
       "      <td>0.000411</td>\n",
       "    </tr>\n",
       "    <tr>\n",
       "      <th>1</th>\n",
       "      <td>3</td>\n",
       "      <td>0.001450</td>\n",
       "      <td>0.000420</td>\n",
       "    </tr>\n",
       "    <tr>\n",
       "      <th>2</th>\n",
       "      <td>4</td>\n",
       "      <td>0.001946</td>\n",
       "      <td>0.000427</td>\n",
       "    </tr>\n",
       "    <tr>\n",
       "      <th>3</th>\n",
       "      <td>5</td>\n",
       "      <td>0.004128</td>\n",
       "      <td>0.000379</td>\n",
       "    </tr>\n",
       "    <tr>\n",
       "      <th>4</th>\n",
       "      <td>6</td>\n",
       "      <td>0.007402</td>\n",
       "      <td>0.000380</td>\n",
       "    </tr>\n",
       "  </tbody>\n",
       "</table>\n",
       "</div>"
      ],
      "text/plain": [
       "   size      GCD1      GCD2\n",
       "0     2  0.000862  0.000411\n",
       "1     3  0.001450  0.000420\n",
       "2     4  0.001946  0.000427\n",
       "3     5  0.004128  0.000379\n",
       "4     6  0.007402  0.000380"
      ]
     },
     "execution_count": 165,
     "metadata": {},
     "output_type": "execute_result"
    }
   ],
   "source": [
    "# あとはデータ収集してグラフを描く．\n",
    "# とりあえず pandas のデータフレームに突っ込んでおく\n",
    "\n",
    "import pandas as pd\n",
    "\n",
    "data_list = []\n",
    "\n",
    "for size in range(2, 20):\n",
    "    gcd1_time = timeit.timeit(lambda: test_GCD1(size), number=100)\n",
    "    gcd2_time = timeit.timeit(lambda: test_GCD2(size), number=100)\n",
    "    data_list.append({'size': size, 'GCD1': gcd1_time, 'GCD2': gcd2_time})\n",
    "\n",
    "df = pd.DataFrame(data_list)\n",
    "df.head()"
   ]
  },
  {
   "cell_type": "code",
   "execution_count": 167,
   "metadata": {},
   "outputs": [
    {
     "data": {
      "text/plain": [
       "<Axes: xlabel='size'>"
      ]
     },
     "execution_count": 167,
     "metadata": {},
     "output_type": "execute_result"
    },
    {
     "data": {
      "image/png": "[encoded data removed]",
      "text/plain": [
       "<Figure size 640x480 with 1 Axes>"
      ]
     },
     "metadata": {},
     "output_type": "display_data"
    }
   ],
   "source": [
    "# 片対数グラフで書いてみる\n",
    "df.plot(x='size', y=['GCD1', 'GCD2'], logy=True, grid=True)"
   ]
  },
  {
   "cell_type": "markdown",
   "metadata": {},
   "source": [
    "## 結論\n",
    "\n",
    "- 愚直法，ユークリッド法とも正しい答えを導きだすことはできる\n",
    "- 実行時間に関しては，与える整数が小さい場合は，それほど問題にならないが，整数サイズが大きくなるに連れ，指数のスケールで性能差が現れてくる．"
   ]
  }
 ],
 "metadata": {
  "kernelspec": {
   "display_name": "Python 3",
   "language": "python",
   "name": "python3"
  },
  "language_info": {
   "codemirror_mode": {
    "name": "ipython",
    "version": 3
   },
   "file_extension": ".py",
   "mimetype": "text/x-python",
   "name": "python",
   "nbconvert_exporter": "python",
   "pygments_lexer": "ipython3",
   "version": "3.10.3"
  },
  "orig_nbformat": 4
 },
 "nbformat": 4,
 "nbformat_minor": 2
}
