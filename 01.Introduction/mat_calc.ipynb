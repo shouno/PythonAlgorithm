{
 "cells": [
  {
   "cell_type": "markdown",
   "metadata": {},
   "source": [
    "# 行列の計算量に関するメモ\n",
    "\n",
    "- 行列の和\n",
    "- 行列の積\n",
    "\n",
    "についての計算量を考えてみる．\n",
    "\n",
    "ここでは，行列の計算量を考えるために，あえて Python の `list` を使って実現します．\n",
    "普通は，この手の計算は `numpy` を使います．"
   ]
  },
  {
   "cell_type": "markdown",
   "metadata": {},
   "source": [
    "## 行列の和に関して\n",
    "\n",
    "行列を表現するには，`list` を入れ子構造にして（いわゆる `list` の `list`）を用いて行列を表現します．\n",
    "純粋に行列の足し算 `add_mat` と掛け算 `mul_mat` の性能をみるために，初期化した配列 `C` を渡して，\n",
    "`A`, `B` の演算を計算していきます．"
   ]
  },
  {
   "cell_type": "code",
   "execution_count": 6,
   "metadata": {},
   "outputs": [],
   "source": [
    "# 原始的な行列の和\n",
    "def add_mat(C, A, B):\n",
    "    for i in range(len(C)):\n",
    "        for j in range(len(C[i])):\n",
    "            C[i][j] = A[i][j] + B[i][j]\n",
    "    return C\n",
    "\n",
    "\n",
    "# 原始的な行列の積\n",
    "def mul_mat(C, A, B):\n",
    "    for i in range(len(C)):\n",
    "        for j in range(len(C[i])):\n",
    "            C[i][j] = 0\n",
    "            for k in range(len(A[i])):\n",
    "                C[i][j] += A[i][k] * B[k][j]\n",
    "    return C\n",
    "\n",
    "\n",
    "# 初期化用\n",
    "def zero_mat(nrows, ncols):\n",
    "    '''0で初期化する'''\n",
    "    C = []\n",
    "    for i in range(nrows):\n",
    "        row = []\n",
    "        for j in range(ncols):\n",
    "            row.append(0)\n",
    "        C.append(row)\n",
    "    return C\n",
    "\n",
    "\n",
    "# 乱数で初期化するのも作っておく\n",
    "import random\n",
    "\n",
    "def rand_mat(nrows, ncols):\n",
    "    '''乱数で初期化する'''\n",
    "    C = []\n",
    "    for i in range(nrows):\n",
    "        row = []\n",
    "        for j in range(ncols):\n",
    "            row.append(random.randint(0, 9))\n",
    "        C.append(row)\n",
    "    return C"
   ]
  },
  {
   "cell_type": "markdown",
   "metadata": {},
   "source": [
    "おおよそ，Python らしからぬコードが出来上がりました．\n",
    "\n",
    "が，めげすにテストします"
   ]
  },
  {
   "cell_type": "code",
   "execution_count": 4,
   "metadata": {},
   "outputs": [
    {
     "name": "stdout",
     "output_type": "stream",
     "text": [
      "[[2, 6, 10], [6, 10, 14], [10, 14, 18]]\n",
      "[[14, 32, 50], [32, 77, 122], [50, 122, 194]]\n",
      "[[ 2  6 10]\n",
      " [ 6 10 14]\n",
      " [10 14 18]]\n",
      "[[ 14  32  50]\n",
      " [ 32  77 122]\n",
      " [ 50 122 194]]\n"
     ]
    }
   ],
   "source": [
    "A = [[1, 2, 3],\n",
    "    [4, 5, 6],\n",
    "    [7, 8, 9]]\n",
    "\n",
    "B = [[1, 4, 7],\n",
    "    [2, 5, 8],\n",
    "    [3, 6, 9]\n",
    "    ]\n",
    "\n",
    "C = zero_mat(3, 3)\n",
    "add_mat(C, A, B)\n",
    "print(C)\n",
    "\n",
    "D = zero_mat(3, 3)\n",
    "mul_mat(D, A, B)\n",
    "print(D)\n",
    "\n",
    "# 結果が正しいか numpy に喰わせて合っているかを確認\n",
    "import numpy as np\n",
    "print(np.array(A) + np.array(B))\n",
    "print(np.array(A) @ np.array(B))"
   ]
  },
  {
   "cell_type": "markdown",
   "metadata": {},
   "source": [
    "## 時間を計測してみる\n",
    "\n",
    "どうやら正しそうなので，行列のスケールで演算スピードがどのくらい変わるかを実験します．"
   ]
  },
  {
   "cell_type": "code",
   "execution_count": 9,
   "metadata": {},
   "outputs": [
    {
     "name": "stdout",
     "output_type": "stream",
     "text": [
      "add_mat() time:0.001942\n",
      "mul_mat() time:0.021729\n"
     ]
    }
   ],
   "source": [
    "# とりあえず size = 10 くらいで計測してみる\n",
    "\n",
    "size = 10\n",
    "\n",
    "A = rand_mat(size, size)\n",
    "B = rand_mat(size, size)\n",
    "C = zero_mat(size, size)\n",
    "\n",
    "import timeit\n",
    "add_time = timeit.timeit(lambda: add_mat(C, A, B), number=100)\n",
    "mul_time = timeit.timeit(lambda: mul_mat(C, A, B), number=100)\n",
    "\n",
    "print(f\"add_mat() time:{add_time:08f} [sec]\")\n",
    "print(f\"mul_mat() time:{mul_time:08f} [sec]\")"
   ]
  },
  {
   "cell_type": "code",
   "execution_count": 24,
   "metadata": {},
   "outputs": [
    {
     "data": {
      "text/html": [
       "<div>\n",
       "<style scoped>\n",
       "    .dataframe tbody tr th:only-of-type {\n",
       "        vertical-align: middle;\n",
       "    }\n",
       "\n",
       "    .dataframe tbody tr th {\n",
       "        vertical-align: top;\n",
       "    }\n",
       "\n",
       "    .dataframe thead th {\n",
       "        text-align: right;\n",
       "    }\n",
       "</style>\n",
       "<table border=\"1\" class=\"dataframe\">\n",
       "  <thead>\n",
       "    <tr style=\"text-align: right;\">\n",
       "      <th></th>\n",
       "      <th>size</th>\n",
       "      <th>add_time</th>\n",
       "      <th>mul_time</th>\n",
       "    </tr>\n",
       "  </thead>\n",
       "  <tbody>\n",
       "    <tr>\n",
       "      <th>0</th>\n",
       "      <td>1</td>\n",
       "      <td>0.000094</td>\n",
       "      <td>0.000118</td>\n",
       "    </tr>\n",
       "    <tr>\n",
       "      <th>1</th>\n",
       "      <td>2</td>\n",
       "      <td>0.000147</td>\n",
       "      <td>0.000362</td>\n",
       "    </tr>\n",
       "    <tr>\n",
       "      <th>2</th>\n",
       "      <td>3</td>\n",
       "      <td>0.000248</td>\n",
       "      <td>0.001527</td>\n",
       "    </tr>\n",
       "    <tr>\n",
       "      <th>3</th>\n",
       "      <td>4</td>\n",
       "      <td>0.000374</td>\n",
       "      <td>0.001880</td>\n",
       "    </tr>\n",
       "    <tr>\n",
       "      <th>4</th>\n",
       "      <td>5</td>\n",
       "      <td>0.000521</td>\n",
       "      <td>0.003241</td>\n",
       "    </tr>\n",
       "  </tbody>\n",
       "</table>\n",
       "</div>"
      ],
      "text/plain": [
       "   size  add_time  mul_time\n",
       "0     1  0.000094  0.000118\n",
       "1     2  0.000147  0.000362\n",
       "2     3  0.000248  0.001527\n",
       "3     4  0.000374  0.001880\n",
       "4     5  0.000521  0.003241"
      ]
     },
     "execution_count": 24,
     "metadata": {},
     "output_type": "execute_result"
    }
   ],
   "source": [
    "# じゃ，あとは pandas に入れて，プロットするだけ\n",
    "\n",
    "import pandas as pd\n",
    "\n",
    "data_list = []\n",
    "\n",
    "for size in range(1, 50):\n",
    "    A = rand_mat(size, size)\n",
    "    B = rand_mat(size, size)\n",
    "    C = zero_mat(size, size)\n",
    "\n",
    "    add_time = timeit.timeit(lambda: add_mat(C, A, B), number=100)\n",
    "    mul_time = timeit.timeit(lambda: mul_mat(C, A, B), number=100)\n",
    "\n",
    "    data_list.append([size, add_time, mul_time])\n",
    "\n",
    "df = pd.DataFrame(data_list, columns=[\"size\", \"add_time\", \"mul_time\"])\n",
    "\n",
    "df.head()\n",
    "\n",
    "# m1 macbook pro で15秒くらいかかる"
   ]
  },
  {
   "cell_type": "code",
   "execution_count": 25,
   "metadata": {},
   "outputs": [
    {
     "data": {
      "text/plain": [
       "<Axes: xlabel='size'>"
      ]
     },
     "execution_count": 25,
     "metadata": {},
     "output_type": "execute_result"
    },
    {
     "data": {
      "image/png": "[encoded data removed]",
      "text/plain": [
       "<Figure size 640x480 with 1 Axes>"
      ]
     },
     "metadata": {},
     "output_type": "display_data"
    }
   ],
   "source": [
    "# グラフを描画してみよう\n",
    "df.plot(x=\"size\", y=[\"add_time\", \"mul_time\"], logy=True, grid=True)"
   ]
  },
  {
   "cell_type": "markdown",
   "metadata": {},
   "source": [
    "## おまけ\n",
    "\n",
    "ちなみにふつーの numpy を使った例で測ってみるとどうなるか．\n"
   ]
  },
  {
   "cell_type": "code",
   "execution_count": 26,
   "metadata": {},
   "outputs": [
    {
     "data": {
      "text/html": [
       "<div>\n",
       "<style scoped>\n",
       "    .dataframe tbody tr th:only-of-type {\n",
       "        vertical-align: middle;\n",
       "    }\n",
       "\n",
       "    .dataframe tbody tr th {\n",
       "        vertical-align: top;\n",
       "    }\n",
       "\n",
       "    .dataframe thead th {\n",
       "        text-align: right;\n",
       "    }\n",
       "</style>\n",
       "<table border=\"1\" class=\"dataframe\">\n",
       "  <thead>\n",
       "    <tr style=\"text-align: right;\">\n",
       "      <th></th>\n",
       "      <th>size</th>\n",
       "      <th>add_time</th>\n",
       "      <th>mul_time</th>\n",
       "    </tr>\n",
       "  </thead>\n",
       "  <tbody>\n",
       "    <tr>\n",
       "      <th>0</th>\n",
       "      <td>1</td>\n",
       "      <td>0.000254</td>\n",
       "      <td>0.000291</td>\n",
       "    </tr>\n",
       "    <tr>\n",
       "      <th>1</th>\n",
       "      <td>2</td>\n",
       "      <td>0.000281</td>\n",
       "      <td>0.000352</td>\n",
       "    </tr>\n",
       "    <tr>\n",
       "      <th>2</th>\n",
       "      <td>3</td>\n",
       "      <td>0.000375</td>\n",
       "      <td>0.000452</td>\n",
       "    </tr>\n",
       "    <tr>\n",
       "      <th>3</th>\n",
       "      <td>4</td>\n",
       "      <td>0.000493</td>\n",
       "      <td>0.000570</td>\n",
       "    </tr>\n",
       "    <tr>\n",
       "      <th>4</th>\n",
       "      <td>5</td>\n",
       "      <td>0.000631</td>\n",
       "      <td>0.001040</td>\n",
       "    </tr>\n",
       "  </tbody>\n",
       "</table>\n",
       "</div>"
      ],
      "text/plain": [
       "   size  add_time  mul_time\n",
       "0     1  0.000254  0.000291\n",
       "1     2  0.000281  0.000352\n",
       "2     3  0.000375  0.000452\n",
       "3     4  0.000493  0.000570\n",
       "4     5  0.000631  0.001040"
      ]
     },
     "execution_count": 26,
     "metadata": {},
     "output_type": "execute_result"
    }
   ],
   "source": [
    "import numpy as np\n",
    "\n",
    "data_list_np = []\n",
    "\n",
    "def add_mat_np(C, A, B):\n",
    "    C = np.array(A) + np.array(B)\n",
    "\n",
    "def mul_mat_np(C, A, B):\n",
    "    C = np.array(A) @ np.array(B)\n",
    "\n",
    "for size in range(1, 50):\n",
    "    A = rand_mat(size, size)\n",
    "    B = rand_mat(size, size)\n",
    "    C = zero_mat(size, size)\n",
    "\n",
    "    add_time = timeit.timeit(lambda: add_mat_np(C, A, B), number=100)\n",
    "    mul_time = timeit.timeit(lambda: mul_mat_np(C, A, B), number=100)\n",
    "\n",
    "    data_list_np.append([size, add_time, mul_time])\n",
    "    \n",
    "df_np = pd.DataFrame(data_list_np, columns=[\"size\", \"add_time\", \"mul_time\"])\n",
    "df_np.head()\n",
    "\n",
    "# こっちは 0.6秒くらいで終わる"
   ]
  },
  {
   "cell_type": "code",
   "execution_count": 27,
   "metadata": {},
   "outputs": [
    {
     "data": {
      "text/plain": [
       "<Axes: xlabel='size'>"
      ]
     },
     "execution_count": 27,
     "metadata": {},
     "output_type": "execute_result"
    },
    {
     "data": {
      "image/png": "[encoded data removed]",
      "text/plain": [
       "<Figure size 640x480 with 1 Axes>"
      ]
     },
     "metadata": {},
     "output_type": "display_data"
    }
   ],
   "source": [
    "# グラフを描画してみよう\n",
    "df_np.plot(x=\"size\", y=[\"add_time\", \"mul_time\"], logy=True, grid=True)"
   ]
  },
  {
   "cell_type": "markdown",
   "metadata": {},
   "source": [
    "変換時間含めても，`size = 50` で，おおよそ，掛け算は100倍くらい違う．"
   ]
  },
  {
   "cell_type": "markdown",
   "metadata": {},
   "source": [
    "## 結論\n",
    "- 行列計算の様に内部ループの多さによって計算オーダーは劇的に変化する"
   ]
  }
 ],
 "metadata": {
  "kernelspec": {
   "display_name": "Python 3",
   "language": "python",
   "name": "python3"
  },
  "language_info": {
   "codemirror_mode": {
    "name": "ipython",
    "version": 3
   },
   "file_extension": ".py",
   "mimetype": "text/x-python",
   "name": "python",
   "nbconvert_exporter": "python",
   "pygments_lexer": "ipython3",
   "version": "3.10.3"
  },
  "orig_nbformat": 4
 },
 "nbformat": 4,
 "nbformat_minor": 2
}
