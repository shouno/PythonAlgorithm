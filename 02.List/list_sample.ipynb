{
 "cells": [
  {
   "cell_type": "code",
   "execution_count": 12,
   "metadata": {},
   "outputs": [],
   "source": [
    "class Node:\n",
    "    def __init__(self, data):\n",
    "        self.data = data\n",
    "        self.next = None\n",
    "\n",
    "class LinkedList:\n",
    "    def __init__(self):\n",
    "        self.head = None\n",
    "\n",
    "    def insert(self, prev_node, data):\n",
    "        \"\"\"指定したノードの後ろに新しいノードを追加\"\"\"\n",
    "        if not prev_node:\n",
    "            print(\"prev_node がありません.\")\n",
    "            return\n",
    "\n",
    "        new_node = Node(data)\n",
    "        new_node.next = prev_node.next\n",
    "        prev_node.next = new_node\n",
    "        \n",
    "    def delete(self, prev_node):\n",
    "        \"\"\"指定したノードの後ろのノードを削除\"\"\"\n",
    "        if not prev_node:\n",
    "            print(\"prev_node がありません.\")\n",
    "            return\n",
    "\n",
    "        prev_node.next = prev_node.next.next\n",
    "        \n",
    "    def first(self):\n",
    "        \"\"\"リストの先頭のノードを返す\"\"\"\n",
    "        return self.head\n",
    "    \n",
    "    def last(self):\n",
    "        \"\"\"リストの末尾のノードを返す\"\"\"\n",
    "        last_node = self.head\n",
    "        while last_node.next:\n",
    "            last_node = last_node.next\n",
    "        return last_node\n",
    "    \n",
    "    def find(self, data):\n",
    "        \"\"\"指定したデータを持つ最初のノードを返す\"\"\"\n",
    "        current_node = self.head\n",
    "        while current_node and current_node.data != data:\n",
    "            current_node = current_node.next\n",
    "        return current_node\n",
    "\n",
    "    def locate(self, index):\n",
    "        \"\"\"指定したインデックスのノードを返す\"\"\"\n",
    "        current_node = self.head\n",
    "        position = 0\n",
    "        while current_node and position != index:\n",
    "            current_node = current_node.next\n",
    "            position += 1\n",
    "        return current_node\n",
    "    \n",
    "    def next(self, node):\n",
    "        \"\"\"指定したノードの次のノードを返す\"\"\"\n",
    "        return node.next\n",
    "    \n",
    "    def prev(self, node):\n",
    "        \"\"\"指定したノードの前のノードを返す\"\"\"\n",
    "        current_node = self.head\n",
    "        while current_node and current_node.next != node:\n",
    "            current_node = current_node.next\n",
    "        return current_node\n",
    "\n",
    "    def append(self, data):\n",
    "        \"\"\"リストの末尾に新しいノードを追加\"\"\"\n",
    "        new_node = Node(data)\n",
    "        if not self.head: # リストが空の場合\n",
    "            self.head = new_node\n",
    "            return\n",
    "\n",
    "        last_node = self.head\n",
    "        while last_node.next: # リストの末尾を探す\n",
    "            last_node = last_node.next\n",
    "        last_node.next = new_node\n",
    "    \n",
    "    def prepend(self, data):\n",
    "        \"\"\"リストの先頭に新しいノードを追加\"\"\"\n",
    "        new_node = Node(data)\n",
    "        new_node.next = self.head\n",
    "        self.head = new_node\n",
    "    \n",
    "    def delete_data(self, data):\n",
    "        \"\"\"指定したデータを持つ最初のノードを削除\"\"\"\n",
    "        current_node = self.head\n",
    "        if current_node and current_node.data == data: # リストの先頭だけ特別扱い\n",
    "            self.head = current_node.next\n",
    "            current_node = None\n",
    "            return\n",
    "\n",
    "        prev_node = None\n",
    "        while current_node and current_node.data != data:\n",
    "            prev_node = current_node\n",
    "            current_node = current_node.next\n",
    "\n",
    "        if not current_node:\n",
    "            return\n",
    "\n",
    "        prev_node.next = current_node.next\n",
    "        current_node = None\n",
    "\n",
    "    def print_list(self):\n",
    "        \"\"\"リストの要素を表示\"\"\"\n",
    "        current_node = self.head\n",
    "        while current_node:\n",
    "            print(current_node.data, end=\" -> \")\n",
    "            current_node = current_node.next\n",
    "        print(\"None\")\n",
    "\n"
   ]
  },
  {
   "cell_type": "markdown",
   "metadata": {},
   "source": [
    "## 簡単にテスト\n",
    "とりあえず，簡単にテストしてみよう\n"
   ]
  },
  {
   "cell_type": "code",
   "execution_count": 13,
   "metadata": {},
   "outputs": [
    {
     "name": "stdout",
     "output_type": "stream",
     "text": [
      "1 -> 2 -> 3 -> 4 -> None\n",
      "1 -> 2 -> 2.5 -> 3 -> 4 -> None\n",
      "1 -> 2 -> 3 -> 4 -> None\n"
     ]
    }
   ],
   "source": [
    "# 使用例\n",
    "llist = LinkedList()\n",
    "llist.append(1)\n",
    "llist.append(2)\n",
    "llist.append(3)\n",
    "llist.append(4)\n",
    "llist.print_list()  # 1 -> 2 -> 3 -> 4 -> None\n",
    "\n",
    "llist.insert(llist.head.next, 2.5)\n",
    "llist.print_list()  # 1 -> 2 -> 2.5 -> 3 -> 4 -> None\n",
    "\n",
    "llist.delete_data(2.5)\n",
    "llist.print_list()  # 1 -> 2 -> 3 -> 4 -> None\n"
   ]
  },
  {
   "cell_type": "code",
   "execution_count": 21,
   "metadata": {},
   "outputs": [
    {
     "name": "stdout",
     "output_type": "stream",
     "text": [
      "4 -> 3 -> 2 -> 1 -> None\n"
     ]
    }
   ],
   "source": [
    "# prepend と delete のテスト\n",
    "\n",
    "llist = LinkedList()\n",
    "llist.prepend(1)\n",
    "llist.prepend(2)\n",
    "llist.prepend(3)\n",
    "llist.prepend(4)\n",
    "llist.print_list()  # 4 -> 3 -> 2 -> 1 -> None"
   ]
  },
  {
   "cell_type": "code",
   "execution_count": 22,
   "metadata": {},
   "outputs": [
    {
     "name": "stdout",
     "output_type": "stream",
     "text": [
      "3\n",
      "next:  2\n",
      "prev:  4\n",
      "3.5\n"
     ]
    }
   ],
   "source": [
    "# p に 3 のノードを指させる\n",
    "\n",
    "p = llist.find(3)\n",
    "print(p.data) # 3\n",
    "\n",
    "# その前後のデータを表示\n",
    "print(\"next: \", llist.next(p).data)\n",
    "print(\"prev: \", llist.prev(p).data)\n",
    "\n",
    "# p の後ろに3.5を挿入して見る\n",
    "llist.insert(p, 3.5)\n",
    "print(llist.next(p).data)\n"
   ]
  },
  {
   "cell_type": "code",
   "execution_count": 23,
   "metadata": {},
   "outputs": [
    {
     "name": "stdout",
     "output_type": "stream",
     "text": [
      "4\n",
      "1\n"
     ]
    }
   ],
   "source": [
    "print(llist.first().data)\n",
    "print(llist.last().data)"
   ]
  },
  {
   "cell_type": "code",
   "execution_count": null,
   "metadata": {},
   "outputs": [],
   "source": [
    "## それじゃ時間を計測する\n",
    "\n",
    "n = 10, 50, 100, 500, 1000, 5000, 10000 とリストを増やしていくものとして，\n",
    "\n",
    "- append() でリストの末尾に要素を追加する場合\n",
    "- insert() でリストの先頭に要素を追加する場合\n",
    "\n",
    "で，どの程度時間がかわるのかを計測してみる\n"
   ]
  },
  {
   "cell_type": "code",
   "execution_count": 30,
   "metadata": {},
   "outputs": [
    {
     "name": "stdout",
     "output_type": "stream",
     "text": [
      "append:  25.470613750017947\n",
      "prepend:  0.15273754199733958\n"
     ]
    }
   ],
   "source": [
    "import timeit\n",
    "\n",
    "def test_append(n):\n",
    "    llist = LinkedList()\n",
    "    for i in range(n):\n",
    "        llist.append(i) # 末尾に追加\n",
    "        \n",
    "def test_prepend(n):\n",
    "    llist = LinkedList()\n",
    "    for i in range(n):\n",
    "        llist.prepend(i) # 先頭に追加\n",
    "        \n",
    "        \n",
    "# とりあえず，リストのサイズを10000にして計測してみる\n",
    "list_size = 10000\n",
    "\n",
    "time_append = timeit.timeit(lambda: test_append(list_size), number=10)\n",
    "time_prepend = timeit.timeit(lambda: test_prepend(list_size), number=10)\n",
    "\n",
    "print(\"append: \", time_append)\n",
    "print(\"prepend: \", time_prepend)\n"
   ]
  },
  {
   "cell_type": "code",
   "execution_count": 36,
   "metadata": {},
   "outputs": [
    {
     "name": "stderr",
     "output_type": "stream",
     "text": [
      "100%|██████████| 7/7 [05:20<00:00, 45.78s/it]\n"
     ]
    }
   ],
   "source": [
    "import matplotlib.pyplot as plt\n",
    "from tqdm import tqdm # 時間が遅くて不安になるのでプログレスバーを表示する\n",
    "\n",
    "list_sizes = [10, 50, 100, 500, 1000, 5000, 10000]\n",
    "\n",
    "append_times = []\n",
    "prepend_times = []\n",
    "\n",
    "for size in tqdm(list_sizes):\n",
    "    time_append = timeit.timeit(lambda: test_append(size), number=10)\n",
    "    time_prepend = timeit.timeit(lambda: test_prepend(size), number=10)\n",
    "    append_times.append(time_append)\n",
    "    prepend_times.append(time_prepend)\n"
   ]
  },
  {
   "cell_type": "code",
   "execution_count": 37,
   "metadata": {},
   "outputs": [
    {
     "data": {
      "image/png": "[encoded data removed]",
      "text/plain": [
       "<Figure size 640x480 with 1 Axes>"
      ]
     },
     "metadata": {},
     "output_type": "display_data"
    }
   ],
   "source": [
    "plt.plot(list_sizes, append_times, label=\"append()\")\n",
    "plt.plot(list_sizes, prepend_times, label=\"prepend()\")\n",
    "plt.xlabel(\"list size\")\n",
    "plt.ylabel(\"time [sec]\")\n",
    "plt.title('compare append() and prepend()')\n",
    "plt.legend()\n",
    "plt.grid()"
   ]
  },
  {
   "cell_type": "markdown",
   "metadata": {},
   "source": [
    "`append()` がリストの末尾を探してから挿入するのに対して， `prepend()` は常に先頭に挿入していくため，実行時間に $\\cal{O}(n)$ の分だけ差が出るのが実感できるかと思う"
   ]
  }
 ],
 "metadata": {
  "kernelspec": {
   "display_name": "Python 3",
   "language": "python",
   "name": "python3"
  },
  "language_info": {
   "codemirror_mode": {
    "name": "ipython",
    "version": 3
   },
   "file_extension": ".py",
   "mimetype": "text/x-python",
   "name": "python",
   "nbconvert_exporter": "python",
   "pygments_lexer": "ipython3",
   "version": "3.10.3"
  },
  "orig_nbformat": 4
 },
 "nbformat": 4,
 "nbformat_minor": 2
}
