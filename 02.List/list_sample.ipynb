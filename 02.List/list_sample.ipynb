{
 "cells": [
  {
   "cell_type": "markdown",
   "metadata": {},
   "source": [
    "# 基本のリスト\n",
    "\n",
    "## `Node` クラスについて\n",
    "なにはともあれ基本のデータ単位．ここでは `Node` という名前にしてる．\n",
    "こいつはデータを保持するための属性 `data` と，\n",
    "次の要素を示すための属性 `next` を用意する．\n",
    "C言語の場合は `Node` は構造体になるが，Python などのオブジェクトを扱える言語ではオブジェクトにしてしまうのが一般的．\n",
    "\n",
    "なお，C言語は変数の型に厳格なので，`next` は，次の要素が入っているメモリ上の場所ということでポインタ変数になる（のでポインタ操作が必要になる）．\n",
    "\n",
    "## LinkedList クラスについて\n",
    "上記の `Node` クラスをつないで，一つの長い鎖状の構造を作り出す．ノード間を `next` 要素つかってつなぐので linked という名前がついている．\n",
    "ADT としては適当に想定した最小限のものを実装"
   ]
  },
  {
   "cell_type": "code",
   "execution_count": null,
   "metadata": {},
   "outputs": [],
   "source": [
    "class Node:\n",
    "    def __init__(self, data):\n",
    "        self.data = data\n",
    "        self.next = None\n",
    "\n",
    "class LinkedList:\n",
    "    def __init__(self): \n",
    "        \"\"\"空のリストを作成\"\"\"\n",
    "        self.head = None\n",
    "\n",
    "    def insert(self, prev_node, data):\n",
    "        \"\"\"指定したノードの後ろに新しいノードを追加\"\"\"\n",
    "        if not prev_node:\n",
    "            print(\"prev_node がありません.\")\n",
    "            return\n",
    "\n",
    "        new_node = Node(data)\n",
    "        new_node.next = prev_node.next\n",
    "        prev_node.next = new_node\n",
    "        \n",
    "    def delete(self, prev_node):\n",
    "        \"\"\"指定したノードの後ろのノードを削除\"\"\"\n",
    "        if not prev_node:\n",
    "            print(\"prev_node がありません.\")\n",
    "            return\n",
    "\n",
    "        prev_node.next = prev_node.next.next\n",
    "        \n",
    "    def first(self):\n",
    "        \"\"\"リストの先頭のノードを返す\"\"\"\n",
    "        return self.head\n",
    "    \n",
    "    def last(self):\n",
    "        \"\"\"リストの末尾のノードを返す\"\"\"\n",
    "        last_node = self.head\n",
    "        while last_node.next:\n",
    "            last_node = last_node.next\n",
    "        return last_node\n",
    "    \n",
    "    def find(self, data):\n",
    "        \"\"\"指定したデータを持つ最初のノードを返す\"\"\"\n",
    "        current_node = self.head\n",
    "        while current_node and current_node.data != data:\n",
    "            current_node = current_node.next\n",
    "        return current_node\n",
    "\n",
    "    def locate(self, index):\n",
    "        \"\"\"指定したインデックスのノードを返す\"\"\"\n",
    "        current_node = self.head\n",
    "        position = 0\n",
    "        while current_node and position != index:\n",
    "            current_node = current_node.next\n",
    "            position += 1\n",
    "        return current_node\n",
    "    \n",
    "    def next(self, node):\n",
    "        \"\"\"指定したノードの次のノードを返す\"\"\"\n",
    "        return node.next\n",
    "    \n",
    "    def prev(self, node):\n",
    "        \"\"\"指定したノードの前のノードを返す\"\"\"\n",
    "        current_node = self.head\n",
    "        while current_node and current_node.next != node:\n",
    "            current_node = current_node.next\n",
    "        return current_node\n",
    "\n",
    "    def append(self, data):\n",
    "        \"\"\"リストの末尾に新しいノードを追加\"\"\"\n",
    "        new_node = Node(data)\n",
    "        if not self.head: # リストが空の場合\n",
    "            self.head = new_node\n",
    "            return\n",
    "\n",
    "        last_node = self.head\n",
    "        while last_node.next: # リストの末尾を探す\n",
    "            last_node = last_node.next\n",
    "        last_node.next = new_node\n",
    "    \n",
    "    def delete_data(self, data):\n",
    "        \"\"\"指定したデータを持つ最初のノードを削除\"\"\"\n",
    "        current_node = self.head\n",
    "        if current_node and current_node.data == data: # リストの先頭だけ特別扱い\n",
    "            self.head = current_node.next\n",
    "            current_node = None\n",
    "            return\n",
    "\n",
    "        prev_node = None\n",
    "        while current_node and current_node.data != data:\n",
    "            prev_node = current_node\n",
    "            current_node = current_node.next\n",
    "\n",
    "        if not current_node:\n",
    "            return\n",
    "\n",
    "        prev_node.next = current_node.next\n",
    "        current_node = None\n",
    "\n",
    "    def print_list(self):\n",
    "        \"\"\"リストの要素を表示\"\"\"\n",
    "        current_node = self.head\n",
    "        while current_node:\n",
    "            print(current_node.data, end=\" -> \")\n",
    "            current_node = current_node.next\n",
    "        print(\"None\")\n",
    "\n"
   ]
  },
  {
   "cell_type": "code",
   "execution_count": 10,
   "metadata": {},
   "outputs": [
    {
     "name": "stdout",
     "output_type": "stream",
     "text": [
      "1 -> 2 -> 3 -> 4 -> None\n",
      "1 -> 2 -> 2.5 -> 3 -> 4 -> None\n",
      "1 -> 2 -> 3 -> 4 -> None\n",
      "3\n"
     ]
    }
   ],
   "source": [
    "# 使用例\n",
    "llist = LinkedList()\n",
    "llist.append(1)\n",
    "llist.append(2)\n",
    "llist.append(3)\n",
    "llist.append(4)\n",
    "llist.print_list()  # 1 -> 2 -> 3 -> 4 -> None\n",
    "\n",
    "llist.insert(llist.head.next, 2.5)\n",
    "llist.print_list()  # 1 -> 2 -> 2.5 -> 3 -> 4 -> None\n",
    "\n",
    "llist.delete_data(2.5)\n",
    "llist.print_list()  # 1 -> 2 -> 3 -> 4 -> None\n"
   ]
  },
  {
   "cell_type": "code",
   "execution_count": 25,
   "metadata": {},
   "outputs": [
    {
     "name": "stdout",
     "output_type": "stream",
     "text": [
      "3\n",
      "4\n",
      "2\n",
      "3.5\n"
     ]
    }
   ],
   "source": [
    "# p に 3 のノードを指させる\n",
    "\n",
    "p = llist.find(3)\n",
    "print(p.data) # 3\n",
    "\n",
    "# その前後のデータを表示\n",
    "print(llist.next(p).data)\n",
    "print(llist.prev(p).data)\n",
    "\n",
    "# p の後ろに3.5を挿入して見る\n",
    "llist.insert(p, 3.5)\n",
    "print(llist.next(p).data)\n"
   ]
  },
  {
   "cell_type": "code",
   "execution_count": 24,
   "metadata": {},
   "outputs": [
    {
     "name": "stdout",
     "output_type": "stream",
     "text": [
      "1\n",
      "4\n"
     ]
    }
   ],
   "source": [
    "print(llist.first().data)\n",
    "print(llist.last().data)"
   ]
  }
 ],
 "metadata": {
  "kernelspec": {
   "display_name": "Python 3",
   "language": "python",
   "name": "python3"
  },
  "language_info": {
   "codemirror_mode": {
    "name": "ipython",
    "version": 3
   },
   "file_extension": ".py",
   "mimetype": "text/x-python",
   "name": "python",
   "nbconvert_exporter": "python",
   "pygments_lexer": "ipython3",
   "version": "3.10.3"
  },
  "orig_nbformat": 4
 },
 "nbformat": 4,
 "nbformat_minor": 2
}
