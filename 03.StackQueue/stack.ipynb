{
 "cells": [
  {
   "cell_type": "markdown",
   "metadata": {},
   "source": [
    "# スタックとキュー\n",
    "\n",
    "スタックとキューは python の場合，`List` もしくは `collections.deque` で実現できるので，とりあえずそっちを使ってみます．"
   ]
  },
  {
   "cell_type": "code",
   "execution_count": 1,
   "metadata": {},
   "outputs": [],
   "source": [
    "from collections import deque\n",
    "import timeit\n"
   ]
  },
  {
   "cell_type": "code",
   "execution_count": 2,
   "metadata": {},
   "outputs": [
    {
     "name": "stdout",
     "output_type": "stream",
     "text": [
      "0.7928791669983184 0.7716652499948395\n"
     ]
    }
   ],
   "source": [
    "def push(stack, x):\n",
    "    stack.append(x)\n",
    "    \n",
    "def pop(stack):\n",
    "    return stack.pop()\n",
    "\n",
    "def push_trial(size, stack):\n",
    "    for i in range(10**size): # サイズは10のべきで測る\n",
    "        push(stack, i)\n",
    "        \n",
    "def pop_trial(size, stack):\n",
    "    for i in range(10**size):\n",
    "        pop(stack)\n",
    "    \n",
    "\n",
    "\n",
    "# list と deque で時間計測\n",
    "stack_with_list = []\n",
    "stack_with_deque = deque([])\n",
    "    \n",
    "time_push_list = timeit.timeit(lambda: push_trial(5, stack_with_list), number=100)\n",
    "time_push_deque = timeit.timeit(lambda: push_trial(5, stack_with_deque), number=100)\n",
    "time_pop_list = timeit.timeit(lambda: pop_trial(5, stack_with_list), number=100)\n",
    "time_pop_deque = timeit.timeit(lambda: pop_trial(5, stack_with_deque), number=100)\n",
    "print(time_push_list, time_push_deque)"
   ]
  },
  {
   "cell_type": "code",
   "execution_count": 3,
   "metadata": {},
   "outputs": [
    {
     "data": {
      "text/html": [
       "<div>\n",
       "<style scoped>\n",
       "    .dataframe tbody tr th:only-of-type {\n",
       "        vertical-align: middle;\n",
       "    }\n",
       "\n",
       "    .dataframe tbody tr th {\n",
       "        vertical-align: top;\n",
       "    }\n",
       "\n",
       "    .dataframe thead th {\n",
       "        text-align: right;\n",
       "    }\n",
       "</style>\n",
       "<table border=\"1\" class=\"dataframe\">\n",
       "  <thead>\n",
       "    <tr style=\"text-align: right;\">\n",
       "      <th></th>\n",
       "      <th>size</th>\n",
       "      <th>push_list</th>\n",
       "      <th>pop_list</th>\n",
       "      <th>push_deque</th>\n",
       "      <th>pop_deque</th>\n",
       "    </tr>\n",
       "  </thead>\n",
       "  <tbody>\n",
       "    <tr>\n",
       "      <th>0</th>\n",
       "      <td>1</td>\n",
       "      <td>0.000020</td>\n",
       "      <td>0.000012</td>\n",
       "      <td>0.000013</td>\n",
       "      <td>0.000011</td>\n",
       "    </tr>\n",
       "    <tr>\n",
       "      <th>1</th>\n",
       "      <td>2</td>\n",
       "      <td>0.000077</td>\n",
       "      <td>0.000071</td>\n",
       "      <td>0.000075</td>\n",
       "      <td>0.000070</td>\n",
       "    </tr>\n",
       "    <tr>\n",
       "      <th>2</th>\n",
       "      <td>3</td>\n",
       "      <td>0.000768</td>\n",
       "      <td>0.000729</td>\n",
       "      <td>0.000770</td>\n",
       "      <td>0.000734</td>\n",
       "    </tr>\n",
       "    <tr>\n",
       "      <th>3</th>\n",
       "      <td>4</td>\n",
       "      <td>0.007806</td>\n",
       "      <td>0.007470</td>\n",
       "      <td>0.007853</td>\n",
       "      <td>0.007621</td>\n",
       "    </tr>\n",
       "    <tr>\n",
       "      <th>4</th>\n",
       "      <td>5</td>\n",
       "      <td>0.077089</td>\n",
       "      <td>0.074421</td>\n",
       "      <td>0.075060</td>\n",
       "      <td>0.075108</td>\n",
       "    </tr>\n",
       "  </tbody>\n",
       "</table>\n",
       "</div>"
      ],
      "text/plain": [
       "   size  push_list  pop_list  push_deque  pop_deque\n",
       "0     1   0.000020  0.000012    0.000013   0.000011\n",
       "1     2   0.000077  0.000071    0.000075   0.000070\n",
       "2     3   0.000768  0.000729    0.000770   0.000734\n",
       "3     4   0.007806  0.007470    0.007853   0.007621\n",
       "4     5   0.077089  0.074421    0.075060   0.075108"
      ]
     },
     "execution_count": 3,
     "metadata": {},
     "output_type": "execute_result"
    }
   ],
   "source": [
    "# じゃあ，あとはデータとって時間計測の結果をグラフにしてみる\n",
    "\n",
    "import pandas as pd\n",
    "\n",
    "data_list = []\n",
    "for size in range(1, 7):\n",
    "    time_push_list = timeit.timeit(lambda: push_trial(size, stack_with_list), number=10)\n",
    "    time_push_deque = timeit.timeit(lambda: push_trial(size, stack_with_deque), number=10)\n",
    "    time_pop_list = timeit.timeit(lambda: pop_trial(size, stack_with_list), number=10)\n",
    "    time_pop_deque = timeit.timeit(lambda: pop_trial(size, stack_with_deque), number=10)\n",
    "    data_list.append({'size': size, \n",
    "               'push_list': time_push_list, \n",
    "               'pop_list': time_pop_list, \n",
    "               'push_deque': time_push_deque, \n",
    "               'pop_deque': time_pop_deque})\n",
    "\n",
    "df = pd.DataFrame(data_list)\n",
    "\n",
    "df.head()\n"
   ]
  },
  {
   "cell_type": "code",
   "execution_count": 8,
   "metadata": {},
   "outputs": [
    {
     "data": {
      "image/png": "[encoded data removed]",
      "text/plain": [
       "<Figure size 640x480 with 1 Axes>"
      ]
     },
     "metadata": {},
     "output_type": "display_data"
    }
   ],
   "source": [
    "import matplotlib.pylab as plt\n",
    "\n",
    "df.plot(x='size', y=['push_list', 'pop_list', 'push_deque', 'pop_deque'], logy=True)\n",
    "plt.grid()"
   ]
  }
 ],
 "metadata": {
  "kernelspec": {
   "display_name": "Python 3",
   "language": "python",
   "name": "python3"
  },
  "language_info": {
   "codemirror_mode": {
    "name": "ipython",
    "version": 3
   },
   "file_extension": ".py",
   "mimetype": "text/x-python",
   "name": "python",
   "nbconvert_exporter": "python",
   "pygments_lexer": "ipython3",
   "version": "3.10.3"
  }
 },
 "nbformat": 4,
 "nbformat_minor": 2
}
