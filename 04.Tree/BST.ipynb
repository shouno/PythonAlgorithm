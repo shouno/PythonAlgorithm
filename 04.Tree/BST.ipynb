{
 "cells": [
  {
   "cell_type": "markdown",
   "metadata": {},
   "source": [
    "# Binary search tree に関して\n",
    "\n",
    "1. 基本的な ADT インターフェース\n",
    "2. サンプル生成による"
   ]
  },
  {
   "cell_type": "code",
   "execution_count": 6,
   "metadata": {},
   "outputs": [],
   "source": [
    "# ２分木の基本的なクラスを木構造の  \n",
    "\n",
    "import networkx as nx\n",
    "import matplotlib.pyplot as plt\n",
    "from networkx.drawing.nx_pydot import graphviz_layout\n",
    "\n",
    "class Node:\n",
    "    def __init__(self, key):\n",
    "        self.key = key\n",
    "        self.left = None\n",
    "        self.right = None\n",
    "\n",
    "class BinarySearchTree:\n",
    "    def __init__(self):\n",
    "        self.root = None\n",
    "\n",
    "    def insert(self, key):\n",
    "        if self.root is None:\n",
    "            self.root = Node(key)\n",
    "        else:\n",
    "            self._insert(key, self.root)\n",
    "\n",
    "    def _insert(self, key, current_node):\n",
    "        if key < current_node.key:\n",
    "            if current_node.left is None:\n",
    "                current_node.left = Node(key)\n",
    "            else:\n",
    "                self._insert(key, current_node.left)\n",
    "        elif key > current_node.key:\n",
    "            if current_node.right is None:\n",
    "                current_node.right = Node(key)\n",
    "            else:\n",
    "                self._insert(key, current_node.right)\n",
    "        else:\n",
    "            print(\"値はすでに存在します\")\n",
    "\n",
    "    def search(self, key):\n",
    "        if self.root is None:\n",
    "            return False\n",
    "        else:\n",
    "            return self._search(key, self.root)\n",
    "\n",
    "    def _search(self, key, current_node):\n",
    "        if key == current_node.key:\n",
    "            return True\n",
    "        elif key < current_node.key and current_node.left is not None:\n",
    "            return self._search(key, current_node.left)\n",
    "        elif key > current_node.key and current_node.right is not None:\n",
    "            return self._search(key, current_node.right)\n",
    "        return False\n",
    "\n",
    "    def visualize(self):\n",
    "        graph = nx.DiGraph()\n",
    "        self._visualize(self.root, graph)\n",
    "        # graphviz_layout を使ってノードを配置\n",
    "        pos = graphviz_layout(graph, prog=\"dot\")\n",
    "        nx.draw(graph, pos, with_labels=True, node_size=1500, node_color=\"skyblue\", font_size=15, font_weight=\"bold\", arrowsize=20)\n",
    "        plt.show()\n",
    "\n",
    "    def _visualize(self, current_node, graph):\n",
    "        if current_node is not None:\n",
    "            graph.add_node(current_node.key)\n",
    "            if current_node.left is not None:\n",
    "                graph.add_edge(current_node.key, current_node.left.key)\n",
    "                self._visualize(current_node.left, graph)\n",
    "            if current_node.right is not None:\n",
    "                graph.add_edge(current_node.key, current_node.right.key)\n",
    "                self._visualize(current_node.right, graph)"
   ]
  },
  {
   "cell_type": "code",
   "execution_count": 7,
   "metadata": {},
   "outputs": [
    {
     "name": "stderr",
     "output_type": "stream",
     "text": [
      "/var/folders/hk/9f3mbfhd6_7ghtrmrv3h6c200000gn/T/ipykernel_23876/4093928607.py:56: DeprecationWarning: nx.nx_pydot.graphviz_layout depends on the pydot package, which hasknown issues and is not actively maintained. Consider usingnx.nx_agraph.graphviz_layout instead.\n",
      "\n",
      "See https://github.com/networkx/networkx/issues/5723\n",
      "  pos = graphviz_layout(graph, prog=\"dot\")\n"
     ]
    },
    {
     "data": {
      "image/png": "[encoded data removed]",
      "text/plain": [
       "<Figure size 640x480 with 1 Axes>"
      ]
     },
     "metadata": {},
     "output_type": "display_data"
    }
   ],
   "source": [
    "# 2分探索木を作成\n",
    "bst = BinarySearchTree()\n",
    "\n",
    "# ノードを挿入\n",
    "bst.insert(50)\n",
    "bst.insert(30)\n",
    "bst.insert(20)\n",
    "bst.insert(40)\n",
    "bst.insert(70)\n",
    "bst.insert(60)\n",
    "bst.insert(80)\n",
    "\n",
    "# 2分探索木を可視化\n",
    "bst.visualize()"
   ]
  }
 ],
 "metadata": {
  "kernelspec": {
   "display_name": "Python 3",
   "language": "python",
   "name": "python3"
  },
  "language_info": {
   "codemirror_mode": {
    "name": "ipython",
    "version": 3
   },
   "file_extension": ".py",
   "mimetype": "text/x-python",
   "name": "python",
   "nbconvert_exporter": "python",
   "pygments_lexer": "ipython3",
   "version": "3.10.3"
  }
 },
 "nbformat": 4,
 "nbformat_minor": 2
}
